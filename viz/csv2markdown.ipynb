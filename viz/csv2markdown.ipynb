{
 "cells": [
  {
   "cell_type": "code",
   "execution_count": 1,
   "id": "415073d3",
   "metadata": {},
   "outputs": [],
   "source": [
    "import pandas as pd\n",
    "import os\n",
    "import os.path as osp"
   ]
  },
  {
   "cell_type": "code",
   "execution_count": 16,
   "id": "d1410d74",
   "metadata": {},
   "outputs": [],
   "source": [
    "badge = '![leetcode-company-wise-problems-2022](https://socialify.git.ci/hxu296/leetcode-company-wise-problems-2022/image?font=Inter&forks=1&issues=1&language=1&owner=1&pulls=1&stargazers=1&theme=Light)\\n'\n",
    "prompt = '## Leetcode Company-wise Problem Lists\\\n",
    "\\n\\nCurated lists of Leetcode questions group by companies, updated as of May, 2022.\\\n",
    "\\n\\nShout out to fishercoder1534 for the awesome [Leetcode](https://github.com/fishercoder1534/Leetcode) repo for solutions.'\n",
    "index = '\\n\\n## Company Index\\n'\n",
    "body = ''\n",
    "\n",
    "leetcode_problems = pd.read_csv('../data/leetcode_problems.csv')  # provides solutions and difficulty levels\n",
    "\n",
    "companies_dir = '../companies'\n",
    "company_index = 1\n",
    "for fname in sorted(os.listdir(companies_dir)):\n",
    "    fpath = osp.join(companies_dir, fname)\n",
    "    company_name = fname.split('.')[0]\n",
    "    df = pd.read_csv(fpath)\n",
    "    # merge problem_link and problem_name as a markdown link\n",
    "    problems = []\n",
    "    for _, row in df.iterrows():\n",
    "        problem = f\"[{row['problem_name']}]({row['problem_link']})\"\n",
    "        problems.append(problem)\n",
    "    df['problem'] = problems\n",
    "    # add difficulty and solutions\n",
    "    df = pd.merge(df, leetcode_problems, left_on='problem_link', right_on='link')\n",
    "    # drop unnecessary columns\n",
    "    df = df.drop(['problem_link', 'problem_name', 'name', 'link'], axis = 1)\n",
    "    # filter numeric rows\n",
    "    df = df[pd.to_numeric(df.num_occur, errors='coerce').notnull()]\n",
    "    df['num_occur'] = df['num_occur'].apply(pd.to_numeric, errors='coerce')\n",
    "    # sort by occurances\n",
    "    df = df.sort_values(by ='num_occur', ascending=False).reset_index(drop=True)\n",
    "    # filter rows to have >= 1 occurances and are in the most frequent 20 questions\n",
    "    df = df.query('(num_occur >= 1) and (index < 20)')\n",
    "    # change column name\n",
    "    df.columns = ['Occurence', 'Problem', 'Difficulty', 'Solution']\n",
    "    if len(df.index) >= 1:\n",
    "        # add to markdown body and index\n",
    "        body += f'\\n\\n## {company_name}\\n'\n",
    "        body += '\\n[[back to top]](#company-index)\\n'\n",
    "        body += df.to_markdown(index=False)\n",
    "        index += f'{company_index}. [{company_name}](#{company_name.replace(\" \", \"-\").lower()})\\n'\n",
    "        company_index += 1\n",
    "\n",
    "markdown = badge + prompt + index + body\n",
    "\n",
    "with open('README.md', 'w') as f:\n",
    "    f.write(markdown)"
   ]
  },
  {
   "cell_type": "code",
   "execution_count": null,
   "id": "f49b1f91",
   "metadata": {},
   "outputs": [],
   "source": []
  }
 ],
 "metadata": {
  "interpreter": {
   "hash": "de874ab3c1e2d3a16f14367c5e475a4bd6a9ea04150e3961bd56ba9d3ed6a477"
  },
  "kernelspec": {
   "display_name": "Python [conda env:cs320]",
   "language": "python",
   "name": "python3"
  },
  "language_info": {
   "codemirror_mode": {
    "name": "ipython",
    "version": 3
   },
   "file_extension": ".py",
   "mimetype": "text/x-python",
   "name": "python",
   "nbconvert_exporter": "python",
   "pygments_lexer": "ipython3",
   "version": "3.9.7"
  }
 },
 "nbformat": 4,
 "nbformat_minor": 5
}
