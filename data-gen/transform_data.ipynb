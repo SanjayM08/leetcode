{
 "cells": [
  {
   "cell_type": "markdown",
   "id": "75f28a50",
   "metadata": {},
   "source": [
    "## Generate pivot wider CSV"
   ]
  },
  {
   "cell_type": "code",
   "execution_count": 2,
   "id": "5332f87a",
   "metadata": {},
   "outputs": [],
   "source": [
    "import pandas as pd"
   ]
  },
  {
   "cell_type": "code",
   "execution_count": 53,
   "id": "b4ae5a29",
   "metadata": {},
   "outputs": [],
   "source": [
    "df = pd.read_csv('../data/leetcode_problems_and_companies.csv')\n",
    "df = df.drop(['problem_link'], axis = 1)\n",
    "df = df.pivot_table(columns=['problem_name'], values='num_occur', index='company_name', aggfunc='sum').fillna(0)\n",
    "df.to_csv('../data/companies_and_leetcode_problems.csv', index=False)"
   ]
  },
  {
   "cell_type": "markdown",
   "id": "72e54b4c",
   "metadata": {},
   "source": [
    "## Generate CSV for each company"
   ]
  },
  {
   "cell_type": "code",
   "execution_count": 62,
   "id": "daed41c6",
   "metadata": {},
   "outputs": [],
   "source": [
    "df = pd.read_csv('../data/leetcode_problems_and_companies.csv')\n",
    "companies = list(set(df['company_name']))\n",
    "for company in companies:\n",
    "    sub_df = df.query(f'company_name == \"{company}\"')\n",
    "    sub_df = sub_df.drop(['company_name'], axis = 1)\n",
    "    sub_df.to_csv(f'../companies/{company}.csv', index=False)"
   ]
  },
  {
   "cell_type": "code",
   "execution_count": null,
   "id": "9649af13",
   "metadata": {},
   "outputs": [],
   "source": []
  }
 ],
 "metadata": {
  "kernelspec": {
   "display_name": "Python [conda env:cs320]",
   "language": "python",
   "name": "conda-env-cs320-py"
  },
  "language_info": {
   "codemirror_mode": {
    "name": "ipython",
    "version": 3
   },
   "file_extension": ".py",
   "mimetype": "text/x-python",
   "name": "python",
   "nbconvert_exporter": "python",
   "pygments_lexer": "ipython3",
   "version": "3.9.7"
  }
 },
 "nbformat": 4,
 "nbformat_minor": 5
}
